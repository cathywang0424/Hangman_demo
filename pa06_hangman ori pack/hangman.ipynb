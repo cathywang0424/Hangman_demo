{
 "cells": [
  {
   "cell_type": "markdown",
   "metadata": {},
   "source": [
    "# Hangman notes\n",
    "Your hangman homework has a number of different ways it can be completed. If you are having trouble completing it, you can use this notebook to guide you to a solution.\n",
    "\n",
    "## Describe the Algorithm\n",
    "Usually when we start writing a program we decide how we want the program to work. This is called the algorithm underlying the program.\n",
    "\n",
    "For hangman it might be something like this.\n",
    "\n",
    "1. Ask if they want to play a game, if not then return\n",
    "2. Generate a random word (w)\n",
    "   Also initialize the counter variable which keeps track of their remaining guesses\n",
    "   and initialize a variable to keep track of the letters they've guessed already.\n",
    "3. Ask the user for a letter and add it to the list of guessed letters\n",
    "4. If the letter has already been guessed or is not in the word, add one to the counter\n",
    "   and print a message saying they didn't guess a new letter\n",
    "5. Otherwise, congratulate them and print the letters in the word, but only showing the\n",
    "   letters they have guessed.\n",
    "6. If they have guessed all the letters or they have used up all of their guesses end the game\n",
    "7. Otherwise continue the game\n",
    "\n",
    "# Pseudocode\n",
    "The next step is to write the code as a combination of Python and English where the Python\n",
    "captures the \"top-level\" parts of the algorithm.\n",
    "\n",
    "Making this more Python-like we can rewrite it as:\n",
    "```python\n",
    "def play_hangman():\n",
    "    want_to_play = True\n",
    "\n",
    "\n",
    "    while (want_to_play):\n",
    "        guessed_letters = []\n",
    "        guesses_left = 6\n",
    "        word = \"generate a random word\"\n",
    "        letter = \"ask the user for a letter\"\n",
    "        done = False\n",
    "        while not done:\n",
    "            if letter in guessed_letters:\n",
    "                \"subtract one from guesses_left\"\n",
    "                \"and tell them they already guessed that letter\"\n",
    "            elif letter not in word:\n",
    "                \"add letter to guessed letters\"\n",
    "                \"tell user the letter is not in the word\"\n",
    "                \"subtract one from the guesses_left\"\n",
    "            else:\n",
    "                \"add letter to guessed letters\"\n",
    "                \"tell user the letter is in the word\"\n",
    "            if \"all the letters in the word have been guessed\":\n",
    "                \"set done to be true and tell the user they won!\"\n",
    "            elif \"the number of guesses left is zero\":\n",
    "                \"set done to be true and tell the user they lost!\"\n",
    "            else:\n",
    "                \"print the word with a dash for each letter not in guessed_letters\"\n",
    "                letter = \"ask the user for another letter\"\n",
    "        want_to_play = \"ask the user if they want to play another game...\"\n",
    "    \n",
    "```   \n",
    "Some of the pseudo code can be converted directly into python code\n",
    "Other pseudo code should be turned into functions, e.g.\n"
   ]
  },
  {
   "cell_type": "markdown",
   "metadata": {},
   "source": [
    "## Testing\n",
    "Try to trace this program to see if the logic is correct\n",
    "Play a few games and see if we have forgotten anything..."
   ]
  },
  {
   "cell_type": "markdown",
   "metadata": {},
   "source": [
    "## Topdown development\n",
    "Now that we have a highlevel view of the program and have tested it, lets start writing the lowerlevel code.\n",
    "\n",
    "\"generate a random word\" could be a function call \n",
    "```python\n",
    "  word = generate_random_word()\n",
    "```\n",
    "and then you'll need to define the generate_random_word function. The easiest approach is to\n",
    "import the random module and use the random.choice(list) function which returns a random element\n",
    "from the list. Write the code for the generate_random_word function where you just write a list of words, e.g. \n",
    "``` python\n",
    "words = \"dog cat mouse deer snake\".split()\n",
    "```\n",
    "Try writing the generate_random_word function and testing it...\n",
    "Even better is to download a list of English words, read them (as we did for Romeo and Juliet),\n",
    "and then use the random.choice function of the random module to pick a random word from that list."
   ]
  },
  {
   "cell_type": "markdown",
   "metadata": {},
   "source": [
    "# Hangman Jupyter notebook ver."
   ]
  },
  {
   "cell_type": "code",
   "execution_count": 20,
   "metadata": {},
   "outputs": [
    {
     "name": "stdin",
     "output_type": "stream",
     "text": [
      "Do you want to play the game? Please enter y or n. y\n"
     ]
    },
    {
     "name": "stdout",
     "output_type": "stream",
     "text": [
      "Welcome to Hangman! The word you will be guessing is a fruit.\n"
     ]
    },
    {
     "name": "stdin",
     "output_type": "stream",
     "text": [
      "Enter a letter: a\n"
     ]
    },
    {
     "name": "stdout",
     "output_type": "stream",
     "text": [
      "Great! The letter is in the word.\n",
      "_ _ _ _ a_ _ _ _ \n",
      "You have 6 guesses left.\n"
     ]
    },
    {
     "name": "stdin",
     "output_type": "stream",
     "text": [
      "Enter a letter: l\n"
     ]
    },
    {
     "name": "stdout",
     "output_type": "stream",
     "text": [
      "Great! The letter is in the word.\n",
      "_ _ _ _ a_ _ l_ \n",
      "You have 6 guesses left.\n"
     ]
    },
    {
     "name": "stdin",
     "output_type": "stream",
     "text": [
      "Enter a letter: e\n"
     ]
    },
    {
     "name": "stdout",
     "output_type": "stream",
     "text": [
      "Great! The letter is in the word.\n",
      "_ _ _ ea_ _ le\n",
      "You have 6 guesses left.\n"
     ]
    },
    {
     "name": "stdin",
     "output_type": "stream",
     "text": [
      "Enter a letter: p\n"
     ]
    },
    {
     "name": "stdout",
     "output_type": "stream",
     "text": [
      "Great! The letter is in the word.\n",
      "p_ _ eapple\n",
      "You have 6 guesses left.\n"
     ]
    },
    {
     "name": "stdin",
     "output_type": "stream",
     "text": [
      "Enter a letter: i\n"
     ]
    },
    {
     "name": "stdout",
     "output_type": "stream",
     "text": [
      "Great! The letter is in the word.\n",
      "pi_ eapple\n",
      "You have 6 guesses left.\n"
     ]
    },
    {
     "name": "stdin",
     "output_type": "stream",
     "text": [
      "Enter a letter: n\n"
     ]
    },
    {
     "name": "stdout",
     "output_type": "stream",
     "text": [
      "Great! The letter is in the word.\n",
      "Contratulation!The word is: pineapple\n"
     ]
    },
    {
     "name": "stdin",
     "output_type": "stream",
     "text": [
      "Do you want to play another round? Please enter y or n. n\n"
     ]
    }
   ],
   "source": [
    "import random\n",
    "words = \"apple banana mango strawberry orange grape pineapple apricot lemon coconut watermelon cherry papaya berry blueberry blackberry peach lychee muskmelon\".split()\n",
    "\n",
    "def generate_random_word():\n",
    "    return random.choice(words)\n",
    "\n",
    "\n",
    "def check(word, guessed_letters, guess):\n",
    "    blank = \"\"\n",
    "    bingo = 0\n",
    "    for i in word:\n",
    "        if i in guessed_letters:\n",
    "            blank = blank + i\n",
    "        else:\n",
    "            blank = blank + '_ '\n",
    "        if i == guess:\n",
    "            bingo = bingo + 1\n",
    "    if bingo >= 1:\n",
    "        print(\"Great! The letter is in the word.\")\n",
    "        return blank, True # return to bingo ==True means gussed a correct letter\n",
    "\n",
    "    else:\n",
    "        print(\"Sorry,the letter is not in the word.\")\n",
    "        return blank, False  # return to bingo else means gussed a wrong letter and guesses_left - 1\n",
    "\n",
    "\n",
    "def play_hangman():\n",
    "    want_to_play=input(\"Do you want to play the game? Please enter y or n.\")\n",
    "    if want_to_play==\"y\":\n",
    "        want_to_play=True\n",
    "        print(\"Welcome to Hangman! The word you will be guessing is a fruit.\")\n",
    "    if want_to_play==\"n\":\n",
    "        want_to_play=False\n",
    "    while(want_to_play):\n",
    "        word= generate_random_word()\n",
    "        #word = \"apple\"\n",
    "        guessed_letters = []\n",
    "        guesses_left = 6\n",
    "        guess = input(\"Enter a letter:\")\n",
    "        done = False\n",
    "        while not done:\n",
    "            if guess in guessed_letters:\n",
    "                guessed_letters.append(guess)\n",
    "                print(\"You already guessed that letter.\")\n",
    "                guess = input(\"Enter a letter:\")\n",
    "\n",
    "            elif len(guess) == 1:\n",
    "                guessed_letters.append(guess)\n",
    "                result, bingo = check(word, guessed_letters, guess)\n",
    "                \n",
    "                # Guessed correct word finally\n",
    "                if result == word:\n",
    "                    done = True\n",
    "                    print(\"Contratulation!The word is:\", word)\n",
    "                    want_to_play=input(\"Do you want to play another round? Please enter y or n.\")\n",
    "                    if want_to_play==\"y\":\n",
    "                        want_to_play=True\n",
    "                    if want_to_play==\"n\":\n",
    "                        want_to_play=False\n",
    "\n",
    "                # if guessed correct letter, keep the guesses_left\n",
    "                elif bingo == True:\n",
    "                    print(result)\n",
    "                    print(\"You have\", guesses_left, \"guesses left.\")\n",
    "                    guess = input(\"Enter a letter:\")\n",
    "                    \n",
    "                # if  guessed wrong letter, -1\n",
    "                else:\n",
    "                    print(result)\n",
    "                    guesses_left = guesses_left - 1\n",
    "                    print(\"You have\", guesses_left, \"guesses left.\")\n",
    "                    guess = input(\"Enter a letter:\")\n",
    "                    if guesses_left == 0:\n",
    "                        print(\"Sorry, you used up all chances to guess, you lose the game.\")\n",
    "                        print(\"The word is\", word, '\\n')\n",
    "                        print(\"Let's try again!\", '*' * 30, '\\n\\n\\n')\n",
    "                        done = True\n",
    "                        break\n",
    "            else:\n",
    "                print('Error input, try again!') # If type in two letters mistakenly\n",
    "                break\n",
    "\n",
    "\n",
    "play_hangman()"
   ]
  },
  {
   "cell_type": "markdown",
   "metadata": {},
   "source": [
    "this still needs modification"
   ]
  },
  {
   "cell_type": "markdown",
   "metadata": {},
   "source": [
    "\"print the word with a dash for each letter not in guessed_letters\"\n",
    "\n",
    "should also be a function, \n",
    "```python\n",
    "print_word(word,guessed_letter)\n",
    "```\n",
    "which prints each letter of the word but prints a dash if the letter has not been guessed.\n",
    "Try writing that function here and testing it."
   ]
  },
  {
   "cell_type": "code",
   "execution_count": null,
   "metadata": {},
   "outputs": [],
   "source": []
  },
  {
   "cell_type": "markdown",
   "metadata": {},
   "source": [
    "Putting it all together\n",
    "Now try to write the entire play_hangman game with all these pieces.\n"
   ]
  },
  {
   "cell_type": "code",
   "execution_count": null,
   "metadata": {},
   "outputs": [],
   "source": []
  }
 ],
 "metadata": {
  "kernelspec": {
   "display_name": "Python 3",
   "language": "python",
   "name": "python3"
  },
  "language_info": {
   "codemirror_mode": {
    "name": "ipython",
    "version": 3
   },
   "file_extension": ".py",
   "mimetype": "text/x-python",
   "name": "python",
   "nbconvert_exporter": "python",
   "pygments_lexer": "ipython3",
   "version": "3.7.4"
  }
 },
 "nbformat": 4,
 "nbformat_minor": 4
}
